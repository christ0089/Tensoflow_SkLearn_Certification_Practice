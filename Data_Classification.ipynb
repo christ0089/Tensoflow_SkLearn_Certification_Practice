{
  "nbformat": 4,
  "nbformat_minor": 0,
  "metadata": {
    "colab": {
      "name": "Data Classification.ipynb",
      "provenance": [],
      "collapsed_sections": [],
      "authorship_tag": "ABX9TyMYKfCb/vZDEnhIz80+7p4h",
      "include_colab_link": true
    },
    "kernelspec": {
      "name": "python3",
      "display_name": "Python 3"
    }
  },
  "cells": [
    {
      "cell_type": "markdown",
      "metadata": {
        "id": "view-in-github",
        "colab_type": "text"
      },
      "source": [
        "<a href=\"https://colab.research.google.com/github/christ0089/Tensorflow-SkLearn-Certification-2020/blob/master/Data_Classification.ipynb\" target=\"_parent\"><img src=\"https://colab.research.google.com/assets/colab-badge.svg\" alt=\"Open In Colab\"/></a>"
      ]
    },
    {
      "cell_type": "markdown",
      "metadata": {
        "id": "hHLa3vQC4au-",
        "colab_type": "text"
      },
      "source": [
        "#Performing Basic OCR with MNIST"
      ]
    },
    {
      "cell_type": "code",
      "metadata": {
        "id": "sRRny54_4TqT",
        "colab_type": "code",
        "colab": {
          "base_uri": "https://localhost:8080/",
          "height": 54
        },
        "outputId": "d6de68de-15e8-4d85-9c2f-7f83ec57d6f9"
      },
      "source": [
        "from sklearn.datasets import fetch_openml\n",
        "\n",
        "mnist = fetch_openml('mnist_784', version=1)\n",
        "mnist.keys()"
      ],
      "execution_count": 1,
      "outputs": [
        {
          "output_type": "execute_result",
          "data": {
            "text/plain": [
              "dict_keys(['data', 'target', 'frame', 'feature_names', 'target_names', 'DESCR', 'details', 'categories', 'url'])"
            ]
          },
          "metadata": {
            "tags": []
          },
          "execution_count": 1
        }
      ]
    },
    {
      "cell_type": "code",
      "metadata": {
        "id": "3L9fLaj25YhU",
        "colab_type": "code",
        "colab": {
          "base_uri": "https://localhost:8080/",
          "height": 34
        },
        "outputId": "63ea2548-9c3a-4a77-f6ce-703377ae1562"
      },
      "source": [
        "X, y = mnist[\"data\"], mnist[\"target\"]\n",
        "X.shape"
      ],
      "execution_count": 2,
      "outputs": [
        {
          "output_type": "execute_result",
          "data": {
            "text/plain": [
              "(70000, 784)"
            ]
          },
          "metadata": {
            "tags": []
          },
          "execution_count": 2
        }
      ]
    },
    {
      "cell_type": "code",
      "metadata": {
        "id": "v_KogRoH5gHY",
        "colab_type": "code",
        "colab": {}
      },
      "source": [
        "# The 784 represents the features of each image which in this case\n",
        "# is each pixel of a 28 x 28 Image hence 784 features\n"
      ],
      "execution_count": 3,
      "outputs": []
    },
    {
      "cell_type": "code",
      "metadata": {
        "id": "hhRHjNJA5z3w",
        "colab_type": "code",
        "colab": {
          "base_uri": "https://localhost:8080/",
          "height": 248
        },
        "outputId": "c634c784-318b-447c-dc88-7261464786f0"
      },
      "source": [
        "import matplotlib as mlt\n",
        "import matplotlib.pyplot as plt\n",
        "import numpy as np\n",
        "\n",
        "some_digit = X[0]\n",
        "some_digit_image = some_digit.reshape(28,28)\n",
        "plt.imshow(some_digit_image, cmap=\"binary\")\n",
        "plt.axis(\"off\")\n",
        "plt.show()"
      ],
      "execution_count": 4,
      "outputs": [
        {
          "output_type": "display_data",
          "data": {
            "image/png": "[encoded data removed]",
            "text/plain": [
              "<Figure size 432x288 with 1 Axes>"
            ]
          },
          "metadata": {
            "tags": [],
            "needs_background": "light"
          }
        }
      ]
    },
    {
      "cell_type": "code",
      "metadata": {
        "id": "U5xIFfbQ6JWP",
        "colab_type": "code",
        "colab": {
          "base_uri": "https://localhost:8080/",
          "height": 35
        },
        "outputId": "89da62e9-b96d-453a-aac1-6d99da5ba616"
      },
      "source": [
        "y[0]"
      ],
      "execution_count": null,
      "outputs": [
        {
          "output_type": "execute_result",
          "data": {
            "application/vnd.google.colaboratory.intrinsic+json": {
              "type": "string"
            },
            "text/plain": [
              "'5'"
            ]
          },
          "metadata": {
            "tags": []
          },
          "execution_count": 5
        }
      ]
    },
    {
      "cell_type": "code",
      "metadata": {
        "id": "srfVDaLe6PiE",
        "colab_type": "code",
        "colab": {}
      },
      "source": [
        "y = y.astype(np.uint8) #Changing all the test to numbers\n",
        "\n",
        "X_train, X_test, y_train, y_test = X[:60000], X[60000:], y[:60000], y[60000:]\n",
        "\n",
        "y_train_5 = (y_train == 5) # True for all the 5 in set\n",
        "y_test_5 = (y_test == 5)"
      ],
      "execution_count": 5,
      "outputs": []
    },
    {
      "cell_type": "code",
      "metadata": {
        "id": "9KCMy2_aFLgZ",
        "colab_type": "code",
        "colab": {
          "base_uri": "https://localhost:8080/",
          "height": 139
        },
        "outputId": "d5197f49-aa65-4a61-8b2d-cd7b6bc0794f"
      },
      "source": [
        "from sklearn.linear_model import SGDClassifier\n",
        "\n",
        "sdg_clf = SGDClassifier(random_state=42)\n",
        "sdg_clf.fit(X_train, y_train_5)\n",
        "\n",
        "#sdg_clf.predict([some_digit])\n"
      ],
      "execution_count": 6,
      "outputs": [
        {
          "output_type": "execute_result",
          "data": {
            "text/plain": [
              "SGDClassifier(alpha=0.0001, average=False, class_weight=None,\n",
              "              early_stopping=False, epsilon=0.1, eta0=0.0, fit_intercept=True,\n",
              "              l1_ratio=0.15, learning_rate='optimal', loss='hinge',\n",
              "              max_iter=1000, n_iter_no_change=5, n_jobs=None, penalty='l2',\n",
              "              power_t=0.5, random_state=42, shuffle=True, tol=0.001,\n",
              "              validation_fraction=0.1, verbose=0, warm_start=False)"
            ]
          },
          "metadata": {
            "tags": []
          },
          "execution_count": 6
        }
      ]
    },
    {
      "cell_type": "markdown",
      "metadata": {
        "id": "q0Fcm6cvbe6H",
        "colab_type": "text"
      },
      "source": [
        "## Performance Measures for Clasiffiers"
      ]
    },
    {
      "cell_type": "markdown",
      "metadata": {
        "id": "TXtP8N11bctu",
        "colab_type": "text"
      },
      "source": [
        "###Cross-Validation Custom Implementation"
      ]
    },
    {
      "cell_type": "code",
      "metadata": {
        "id": "Hz1Tchn8bp4u",
        "colab_type": "code",
        "colab": {
          "base_uri": "https://localhost:8080/",
          "height": 122
        },
        "outputId": "16354c33-5756-4660-cec5-3d0965898cdd"
      },
      "source": [
        "from sklearn.model_selection import StratifiedKFold\n",
        "from sklearn.base import clone\n",
        "\n",
        "skfolds = StratifiedKFold(n_splits = 3, random_state = 42)\n",
        "\n",
        "for train_index, test_index in skfolds.split(X_train, y_train_5):\n",
        "    clone_clf = clone(sdg_clf)\n",
        "    X_train_folds = X_train[train_index]\n",
        "    y_train_folds = y_train_5[train_index]\n",
        "\n",
        "    X_test_fold = X_train[test_index]\n",
        "    y_test_fold = y_train_5[test_index]\n",
        "\n",
        "    clone_clf.fit(X_train_folds, y_train_folds)\n",
        "    y_pred = clone_clf.predict(X_test_fold)\n",
        "    n_correct = sum(y_pred == y_test_fold)\n",
        "    print(n_correct / len(y_pred))  # prints”\n",
        "\n",
        "\n",
        "\n"
      ],
      "execution_count": 12,
      "outputs": [
        {
          "output_type": "stream",
          "text": [
            "/usr/local/lib/python3.6/dist-packages/sklearn/model_selection/_split.py:296: FutureWarning: Setting a random_state has no effect since shuffle is False. This will raise an error in 0.24. You should leave random_state to its default (None), or set shuffle=True.\n",
            "  FutureWarning\n"
          ],
          "name": "stderr"
        },
        {
          "output_type": "stream",
          "text": [
            "0.95035\n",
            "0.96035\n",
            "0.9604\n"
          ],
          "name": "stdout"
        }
      ]
    },
    {
      "cell_type": "code",
      "metadata": {
        "id": "Pcj6w-llDBlJ",
        "colab_type": "code",
        "colab": {
          "base_uri": "https://localhost:8080/",
          "height": 34
        },
        "outputId": "99344fe5-acfc-4f76-b86d-3ae172e7e447"
      },
      "source": [
        "from sklearn.model_selection import cross_val_score\n",
        "\n",
        "cross_val_score(sdg_clf, X_train, y_train_5, cv=3, scoring=\"accuracy\")"
      ],
      "execution_count": 13,
      "outputs": [
        {
          "output_type": "execute_result",
          "data": {
            "text/plain": [
              "array([0.95035, 0.96035, 0.9604 ])"
            ]
          },
          "metadata": {
            "tags": []
          },
          "execution_count": 13
        }
      ]
    },
    {
      "cell_type": "code",
      "metadata": {
        "id": "ahp8RMouDUG_",
        "colab_type": "code",
        "colab": {
          "base_uri": "https://localhost:8080/",
          "height": 34
        },
        "outputId": "75a3207f-890f-4ae6-bc3d-8842f995bb2a"
      },
      "source": [
        "from sklearn.base import BaseEstimator\n",
        "\n",
        "class Never5Classifier(BaseEstimator):\n",
        "    def fit(self, X, y=None):\n",
        "      pass\n",
        "    def predict(self, X):\n",
        "      return np.zeros((len(X), 1), dtype=bool)\n",
        "\n",
        "never_5_clf = Never5Classifier()\n",
        "# The accuracy of the dataset is 90 percent as the number 5 only represents\n",
        "# the 10% of the data.\n",
        "# This is why accuracy is not generally the best metric to meassure classifier\n",
        "cross_val_score(never_5_clf, X_train, y_train_5, cv=3, scoring=\"accuracy\")"
      ],
      "execution_count": 14,
      "outputs": [
        {
          "output_type": "execute_result",
          "data": {
            "text/plain": [
              "array([0.91125, 0.90855, 0.90915])"
            ]
          },
          "metadata": {
            "tags": []
          },
          "execution_count": 14
        }
      ]
    },
    {
      "cell_type": "code",
      "metadata": {
        "id": "Z97IauK8D2gS",
        "colab_type": "code",
        "colab": {}
      },
      "source": [
        "# Confusion Matrix is the way that we measure classifier performance\n",
        "\n",
        "from sklearn.model_selection import cross_val_predict\n",
        "# Here we use the folds to make clean predictions from the data.\n",
        "y_train_pred = cross_val_score(sdg_clf, X_train, y_train, cv=3)"
      ],
      "execution_count": null,
      "outputs": []
    },
    {
      "cell_type": "code",
      "metadata": {
        "id": "acUr2VXeEyVG",
        "colab_type": "code",
        "colab": {}
      },
      "source": [
        "from sklearn.metrics import confusion_matrix\n",
        "confusion_matrix(y_train_5, y_train_pred)\n",
        "\n",
        "# Confusion Matrices give you the information pretaining the True Positives and\n",
        "# False Negatives\n",
        "# This is the presicion of othe classifier"
      ],
      "execution_count": null,
      "outputs": []
    },
    {
      "cell_type": "markdown",
      "metadata": {
        "id": "mU4tveYuFfHb",
        "colab_type": "text"
      },
      "source": [
        "## Precision and Recall"
      ]
    },
    {
      "cell_type": "code",
      "metadata": {
        "id": "BoZMB_1OE47Z",
        "colab_type": "code",
        "colab": {}
      },
      "source": [
        "from sklearn.metrics import precision_score, recall_score\n",
        "\n",
        "precision_score(y_train_5, y_train_pred) # == (4096) / (4096/ 1522) "
      ],
      "execution_count": null,
      "outputs": []
    },
    {
      "cell_type": "code",
      "metadata": {
        "id": "JJBSOUl2YWCt",
        "colab_type": "code",
        "colab": {}
      },
      "source": [
        "recall_score(y_train_5, y_train_pred) # == (4096) / (4096/ 1325) \n",
        "# The results are not very shiny as the model shows a 75 precision\n",
        "# when classifying \n",
        "\n"
      ],
      "execution_count": null,
      "outputs": []
    },
    {
      "cell_type": "code",
      "metadata": {
        "id": "O8QBhj6gDpJU",
        "colab_type": "code",
        "colab": {}
      },
      "source": [
        "# Compute F1 Score, this scoring metric favors classifiers\n",
        "\n",
        "from sklearn.metrics import f1_score\n",
        "\n",
        "f1_score(y_train_5, y_train_pred)\n",
        "#Increasing pression reduces recall and vice versa they are dependent on \n",
        "# each ther \n",
        "\n",
        "# Reacall Reffers to the number of true negatives \n",
        "# Precision reffers to the number of false positives\n",
        "\n",
        "# To change the threshold of the model to change the way we make predictions\n",
        "\n",
        "y_scores = sdg_clf.desicion_function([2])\n",
        "threshold = 0\n",
        "y_some_digit_pred = (y_scores > threshold) # Returns True\n",
        "\n",
        "# vs \n",
        "\n",
        "threshold = 8000\n",
        "y_some_digit_pred = (y_scores > threshold) # Returns False"
      ],
      "execution_count": null,
      "outputs": []
    },
    {
      "cell_type": "markdown",
      "metadata": {
        "id": "dRtx3njuFs3g",
        "colab_type": "text"
      },
      "source": [
        "Deciding for Threshold Use"
      ]
    },
    {
      "cell_type": "code",
      "metadata": {
        "id": "6pBnazmsFwnk",
        "colab_type": "code",
        "colab": {
          "base_uri": "https://localhost:8080/",
          "height": 130
        },
        "outputId": "96ba57e1-9711-44c5-f8f3-8dadbae644da"
      },
      "source": [
        "y_scores = cross_val_predict(sdg_clf, X_train, y_train, cv=3,\n",
        "                             method=\"decision_function\")\n",
        "\n",
        "from sklearn.metrics import presicion_recall_curve\n",
        "\n",
        "# We use precision recall to compute posible thresholds and recalls\n",
        "precisions, recalls, thresholds = precision_recall_curve(y_train, y_scores)\n",
        "\n",
        "\n",
        "def plot_precision_recall_vs_threshold(precisions, recalls, thresholds):\n",
        "    plt.plot(thresholds, precisions[:-1], \"b--\", label=\"Precision\", linewidth=2)\n",
        "    plt.plot(thresholds, recalls[:-1], \"g-\", label=\"Recall\", linewidth=2)\n",
        "    plt.legend(loc=\"center right\", fontsize=16) # Not shown in the book\n",
        "    plt.xlabel(\"Threshold\", fontsize=16)        # Not shown\n",
        "    plt.grid(True)                              # Not shown\n",
        "    plt.axis([-50000, 50000, 0, 1])             # Not shown\n",
        "\n",
        "plot_precision_recall_vs_threshold(precisions, recalls, thresholds)\n",
        "plt.show()"
      ],
      "execution_count": 8,
      "outputs": [
        {
          "output_type": "error",
          "ename": "SyntaxError",
          "evalue": "ignored",
          "traceback": [
            "\u001b[0;36m  File \u001b[0;32m\"<ipython-input-8-f027486f1281>\"\u001b[0;36m, line \u001b[0;32m7\u001b[0m\n\u001b[0;31m    precisions, recalls, thresholds =\u001b[0m\n\u001b[0m                                      ^\u001b[0m\n\u001b[0;31mSyntaxError\u001b[0m\u001b[0;31m:\u001b[0m invalid syntax\n"
          ]
        }
      ]
    }
  ]
}